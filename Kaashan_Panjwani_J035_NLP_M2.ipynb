{
  "nbformat": 4,
  "nbformat_minor": 0,
  "metadata": {
    "colab": {
      "name": "Kaashan_Panjwani_J035_NLP_M2",
      "provenance": [],
      "authorship_tag": "ABX9TyN145chMdf5LxA/FhAWEtAk",
      "include_colab_link": true
    },
    "kernelspec": {
      "name": "python3",
      "display_name": "Python 3"
    }
  },
  "cells": [
    {
      "cell_type": "markdown",
      "metadata": {
        "id": "view-in-github",
        "colab_type": "text"
      },
      "source": [
        "<a href=\"https://colab.research.google.com/github/KaashanP/NLP/blob/master/Kaashan_Panjwani_J035_NLP_M2.ipynb\" target=\"_parent\"><img src=\"https://colab.research.google.com/assets/colab-badge.svg\" alt=\"Open In Colab\"/></a>"
      ]
    },
    {
      "cell_type": "code",
      "metadata": {
        "id": "eSJEGbUHeJRf",
        "colab_type": "code",
        "colab": {
          "base_uri": "https://localhost:8080/",
          "height": 503
        },
        "outputId": "a6950c86-9dc9-4f21-b7c7-8187bd6979bd"
      },
      "source": [
        "! wget https://github.com/amsurve/J050_sem6_nlp/blob/master/datasets/10k-german-news-articles.zip?raw=true\n",
        "! mkdir newsarticles\n",
        "! unzip 10k-german-news-articles.zip?raw=true -d newsarticles"
      ],
      "execution_count": 1,
      "outputs": [
        {
          "output_type": "stream",
          "text": [
            "--2020-03-03 18:44:52--  https://github.com/amsurve/J050_sem6_nlp/blob/master/datasets/10k-german-news-articles.zip?raw=true\n",
            "Resolving github.com (github.com)... 192.30.255.112\n",
            "Connecting to github.com (github.com)|192.30.255.112|:443... connected.\n",
            "HTTP request sent, awaiting response... 302 Found\n",
            "Location: https://github.com/amsurve/J050_sem6_nlp/raw/master/datasets/10k-german-news-articles.zip [following]\n",
            "--2020-03-03 18:44:52--  https://github.com/amsurve/J050_sem6_nlp/raw/master/datasets/10k-german-news-articles.zip\n",
            "Reusing existing connection to github.com:443.\n",
            "HTTP request sent, awaiting response... 302 Found\n",
            "Location: https://media.githubusercontent.com/media/amsurve/J050_sem6_nlp/master/datasets/10k-german-news-articles.zip [following]\n",
            "--2020-03-03 18:44:52--  https://media.githubusercontent.com/media/amsurve/J050_sem6_nlp/master/datasets/10k-german-news-articles.zip\n",
            "Resolving media.githubusercontent.com (media.githubusercontent.com)... 151.101.0.133, 151.101.64.133, 151.101.128.133, ...\n",
            "Connecting to media.githubusercontent.com (media.githubusercontent.com)|151.101.0.133|:443... connected.\n",
            "HTTP request sent, awaiting response... 200 OK\n",
            "Length: 128989980 (123M) [application/zip]\n",
            "Saving to: ‘10k-german-news-articles.zip?raw=true’\n",
            "\n",
            "10k-german-news-art 100%[===================>] 123.01M   288MB/s    in 0.4s    \n",
            "\n",
            "2020-03-03 18:44:55 (288 MB/s) - ‘10k-german-news-articles.zip?raw=true’ saved [128989980/128989980]\n",
            "\n",
            "Archive:  10k-german-news-articles.zip?raw=true\n",
            "  inflating: newsarticles/Annotations.csv  \n",
            "  inflating: newsarticles/Annotations_consolidated.csv  \n",
            "  inflating: newsarticles/Articles.csv  \n",
            "  inflating: newsarticles/Categories.csv  \n",
            "  inflating: newsarticles/CrossValSplit.csv  \n",
            "  inflating: newsarticles/Newspaper_Staff.csv  \n",
            "  inflating: newsarticles/Posts.csv  \n"
          ],
          "name": "stdout"
        }
      ]
    },
    {
      "cell_type": "code",
      "metadata": {
        "id": "6vreQqGdeXzI",
        "colab_type": "code",
        "colab": {}
      },
      "source": [
        "import pandas as pd \n",
        "import numpy as np \n",
        "import re\n",
        "import spacy"
      ],
      "execution_count": 0,
      "outputs": []
    },
    {
      "cell_type": "code",
      "metadata": {
        "id": "cd6a2vRFt_LL",
        "colab_type": "code",
        "colab": {
          "base_uri": "https://localhost:8080/",
          "height": 69
        },
        "outputId": "4f08529b-4d10-4cb1-8cf9-d2438c18dcf3"
      },
      "source": [
        "import nltk\n",
        "nltk.download('stopwords')"
      ],
      "execution_count": 3,
      "outputs": [
        {
          "output_type": "stream",
          "text": [
            "[nltk_data] Downloading package stopwords to /root/nltk_data...\n",
            "[nltk_data]   Unzipping corpora/stopwords.zip.\n"
          ],
          "name": "stdout"
        },
        {
          "output_type": "execute_result",
          "data": {
            "text/plain": [
              "True"
            ]
          },
          "metadata": {
            "tags": []
          },
          "execution_count": 3
        }
      ]
    },
    {
      "cell_type": "code",
      "metadata": {
        "id": "PHCT3YxzukRA",
        "colab_type": "code",
        "colab": {}
      },
      "source": [
        "from sklearn.feature_extraction.text import TfidfVectorizer\n",
        "from nltk.corpus import stopwords\n",
        "from nltk.tokenize import word_tokenize\n",
        "import string"
      ],
      "execution_count": 0,
      "outputs": []
    },
    {
      "cell_type": "code",
      "metadata": {
        "id": "3hkVNLm5ulxG",
        "colab_type": "code",
        "colab": {}
      },
      "source": [
        "from sklearn.model_selection import train_test_split as tts\n",
        "from sklearn.pipeline import Pipeline\n",
        "from nltk.stem import WordNetLemmatizer "
      ],
      "execution_count": 0,
      "outputs": []
    },
    {
      "cell_type": "code",
      "metadata": {
        "id": "HFOyglzRulzN",
        "colab_type": "code",
        "colab": {}
      },
      "source": [
        "from gensim.models import Word2Vec\n",
        "import gensim\n"
      ],
      "execution_count": 0,
      "outputs": []
    },
    {
      "cell_type": "code",
      "metadata": {
        "id": "-hmjFSeWul2i",
        "colab_type": "code",
        "colab": {}
      },
      "source": [
        "from sklearn import decomposition, ensemble"
      ],
      "execution_count": 0,
      "outputs": []
    },
    {
      "cell_type": "code",
      "metadata": {
        "id": "w3MF2MFou1xS",
        "colab_type": "code",
        "colab": {}
      },
      "source": [
        "Swords = set(stopwords.words('german'))"
      ],
      "execution_count": 0,
      "outputs": []
    },
    {
      "cell_type": "code",
      "metadata": {
        "id": "uWdeWl2Zu1zN",
        "colab_type": "code",
        "colab": {}
      },
      "source": [
        "art_df= pd.read_csv(\"/content/newsarticles/Articles.csv\")"
      ],
      "execution_count": 0,
      "outputs": []
    },
    {
      "cell_type": "code",
      "metadata": {
        "id": "6Ycs0hMGu12n",
        "colab_type": "code",
        "colab": {}
      },
      "source": [
        "ann_df= pd.read_csv(\"/content/newsarticles/Annotations.csv\")\n"
      ],
      "execution_count": 0,
      "outputs": []
    },
    {
      "cell_type": "code",
      "metadata": {
        "id": "j8o0CHLMu146",
        "colab_type": "code",
        "colab": {}
      },
      "source": [
        "categ_df= pd.read_csv(\"/content/newsarticles/Categories.csv\")"
      ],
      "execution_count": 0,
      "outputs": []
    },
    {
      "cell_type": "code",
      "metadata": {
        "id": "9NDwjlKeu176",
        "colab_type": "code",
        "colab": {}
      },
      "source": [
        "ann_conso_df= pd.read_csv(\"/content/newsarticles/Annotations_consolidated.csv\")"
      ],
      "execution_count": 0,
      "outputs": []
    },
    {
      "cell_type": "code",
      "metadata": {
        "id": "1yFcib9qvnDf",
        "colab_type": "code",
        "colab": {}
      },
      "source": [
        "posts_df= pd.read_csv(\"/content/newsarticles/Posts.csv\")"
      ],
      "execution_count": 0,
      "outputs": []
    },
    {
      "cell_type": "code",
      "metadata": {
        "id": "dkQyUlzNvnMF",
        "colab_type": "code",
        "colab": {}
      },
      "source": [
        "crossvalsplit_df= pd.read_csv(\"/content/newsarticles/CrossValSplit.csv\")"
      ],
      "execution_count": 0,
      "outputs": []
    },
    {
      "cell_type": "code",
      "metadata": {
        "id": "hcBe-buZvnQ7",
        "colab_type": "code",
        "colab": {}
      },
      "source": [
        "news_df= pd.read_csv(\"/content/newsarticles/Newspaper_Staff.csv\")"
      ],
      "execution_count": 0,
      "outputs": []
    },
    {
      "cell_type": "code",
      "metadata": {
        "id": "-WoVJzZvyciJ",
        "colab_type": "code",
        "colab": {
          "base_uri": "https://localhost:8080/",
          "height": 191
        },
        "outputId": "2958a08a-9fbc-4efa-bee6-36782b68778f"
      },
      "source": [
        "art_df.info()"
      ],
      "execution_count": 28,
      "outputs": [
        {
          "output_type": "stream",
          "text": [
            "<class 'pandas.core.frame.DataFrame'>\n",
            "RangeIndex: 12087 entries, 0 to 12086\n",
            "Data columns (total 5 columns):\n",
            "ID_Article        12087 non-null int64\n",
            "Path              12087 non-null object\n",
            "publishingDate    12087 non-null object\n",
            "Title             12087 non-null object\n",
            "Body              12087 non-null object\n",
            "dtypes: int64(1), object(4)\n",
            "memory usage: 472.3+ KB\n"
          ],
          "name": "stdout"
        }
      ]
    },
    {
      "cell_type": "code",
      "metadata": {
        "id": "B6dhQwjeykHn",
        "colab_type": "code",
        "colab": {
          "base_uri": "https://localhost:8080/",
          "height": 173
        },
        "outputId": "7a7d987f-376d-49ae-8d21-895220babeca"
      },
      "source": [
        "ann_df.info()"
      ],
      "execution_count": 29,
      "outputs": [
        {
          "output_type": "stream",
          "text": [
            "<class 'pandas.core.frame.DataFrame'>\n",
            "RangeIndex: 58568 entries, 0 to 58567\n",
            "Data columns (total 4 columns):\n",
            "ID_Post         58568 non-null int64\n",
            "ID_Annotator    58568 non-null int64\n",
            "Category        58568 non-null object\n",
            "Value           58568 non-null int64\n",
            "dtypes: int64(3), object(1)\n",
            "memory usage: 1.8+ MB\n"
          ],
          "name": "stdout"
        }
      ]
    },
    {
      "cell_type": "code",
      "metadata": {
        "id": "8ZbiCZDNykKG",
        "colab_type": "code",
        "colab": {
          "base_uri": "https://localhost:8080/",
          "height": 139
        },
        "outputId": "9d5254ab-0e94-4c1c-c5e8-4fa18bfab283"
      },
      "source": [
        "categ_df.info()"
      ],
      "execution_count": 30,
      "outputs": [
        {
          "output_type": "stream",
          "text": [
            "<class 'pandas.core.frame.DataFrame'>\n",
            "RangeIndex: 9 entries, 0 to 8\n",
            "Data columns (total 2 columns):\n",
            "Name    9 non-null object\n",
            "Ord     9 non-null int64\n",
            "dtypes: int64(1), object(1)\n",
            "memory usage: 272.0+ bytes\n"
          ],
          "name": "stdout"
        }
      ]
    },
    {
      "cell_type": "code",
      "metadata": {
        "id": "rsfXR-poykPZ",
        "colab_type": "code",
        "colab": {
          "base_uri": "https://localhost:8080/",
          "height": 156
        },
        "outputId": "003aebf6-f50e-452b-aa44-8272952e4f8d"
      },
      "source": [
        "ann_conso_df.info()"
      ],
      "execution_count": 31,
      "outputs": [
        {
          "output_type": "stream",
          "text": [
            "<class 'pandas.core.frame.DataFrame'>\n",
            "RangeIndex: 40567 entries, 0 to 40566\n",
            "Data columns (total 3 columns):\n",
            "ID_Post     40567 non-null int64\n",
            "Category    40567 non-null object\n",
            "Value       40567 non-null int64\n",
            "dtypes: int64(2), object(1)\n",
            "memory usage: 950.9+ KB\n"
          ],
          "name": "stdout"
        }
      ]
    },
    {
      "cell_type": "code",
      "metadata": {
        "id": "B4Lc7ZEAykSy",
        "colab_type": "code",
        "colab": {
          "base_uri": "https://localhost:8080/",
          "height": 277
        },
        "outputId": "5f352f58-4614-4445-8985-d5f7101708f2"
      },
      "source": [
        "posts_df.info()"
      ],
      "execution_count": 32,
      "outputs": [
        {
          "output_type": "stream",
          "text": [
            "<class 'pandas.core.frame.DataFrame'>\n",
            "RangeIndex: 1011773 entries, 0 to 1011772\n",
            "Data columns (total 10 columns):\n",
            "ID_Post           1011773 non-null int64\n",
            "ID_Parent_Post    694766 non-null float64\n",
            "ID_Article        1011773 non-null int64\n",
            "ID_User           1011773 non-null int64\n",
            "CreatedAt         1011773 non-null object\n",
            "Status            1011773 non-null object\n",
            "Headline          340240 non-null object\n",
            "Body              961889 non-null object\n",
            "PositiveVotes     1011773 non-null int64\n",
            "NegativeVotes     1011773 non-null int64\n",
            "dtypes: float64(1), int64(5), object(4)\n",
            "memory usage: 77.2+ MB\n"
          ],
          "name": "stdout"
        }
      ]
    },
    {
      "cell_type": "code",
      "metadata": {
        "id": "huak0NYkykV0",
        "colab_type": "code",
        "colab": {
          "base_uri": "https://localhost:8080/",
          "height": 121
        },
        "outputId": "1b6862b1-9cc0-41bd-c77a-32da40c93099"
      },
      "source": [
        "news_df.info()"
      ],
      "execution_count": 33,
      "outputs": [
        {
          "output_type": "stream",
          "text": [
            "<class 'pandas.core.frame.DataFrame'>\n",
            "RangeIndex: 110 entries, 0 to 109\n",
            "Data columns (total 1 columns):\n",
            "ID_User    110 non-null int64\n",
            "dtypes: int64(1)\n",
            "memory usage: 1008.0 bytes\n"
          ],
          "name": "stdout"
        }
      ]
    },
    {
      "cell_type": "code",
      "metadata": {
        "id": "155WzkVWykOE",
        "colab_type": "code",
        "colab": {}
      },
      "source": [
        "result = pd.merge(posts_df, ann_conso_df, on=\"ID_Post\", how='right')"
      ],
      "execution_count": 0,
      "outputs": []
    },
    {
      "cell_type": "code",
      "metadata": {
        "id": "QPCrxINizeBn",
        "colab_type": "code",
        "colab": {}
      },
      "source": [
        "result_df = pd.merge(result, art_df, on=\"ID_Article\", how='right')"
      ],
      "execution_count": 0,
      "outputs": []
    },
    {
      "cell_type": "code",
      "metadata": {
        "id": "sOk4vjXQzw9i",
        "colab_type": "code",
        "colab": {
          "base_uri": "https://localhost:8080/",
          "height": 482
        },
        "outputId": "2c1169ac-5ef1-49e2-f09d-18b69a0a1037"
      },
      "source": [
        "result_df.head()"
      ],
      "execution_count": 39,
      "outputs": [
        {
          "output_type": "execute_result",
          "data": {
            "text/html": [
              "<div>\n",
              "<style scoped>\n",
              "    .dataframe tbody tr th:only-of-type {\n",
              "        vertical-align: middle;\n",
              "    }\n",
              "\n",
              "    .dataframe tbody tr th {\n",
              "        vertical-align: top;\n",
              "    }\n",
              "\n",
              "    .dataframe thead th {\n",
              "        text-align: right;\n",
              "    }\n",
              "</style>\n",
              "<table border=\"1\" class=\"dataframe\">\n",
              "  <thead>\n",
              "    <tr style=\"text-align: right;\">\n",
              "      <th></th>\n",
              "      <th>ID_Post</th>\n",
              "      <th>ID_Parent_Post</th>\n",
              "      <th>ID_Article</th>\n",
              "      <th>ID_User</th>\n",
              "      <th>CreatedAt</th>\n",
              "      <th>Status</th>\n",
              "      <th>Headline</th>\n",
              "      <th>Body_x</th>\n",
              "      <th>PositiveVotes</th>\n",
              "      <th>NegativeVotes</th>\n",
              "      <th>Category</th>\n",
              "      <th>Value</th>\n",
              "      <th>Path</th>\n",
              "      <th>publishingDate</th>\n",
              "      <th>Title</th>\n",
              "      <th>Body_y</th>\n",
              "    </tr>\n",
              "  </thead>\n",
              "  <tbody>\n",
              "    <tr>\n",
              "      <th>0</th>\n",
              "      <td>79.0</td>\n",
              "      <td>NaN</td>\n",
              "      <td>1</td>\n",
              "      <td>12071.0</td>\n",
              "      <td>2015-06-01 08:58:32.363</td>\n",
              "      <td>online</td>\n",
              "      <td>NaN</td>\n",
              "      <td>ich kann keinen hinweis finden, wo man sich hi...</td>\n",
              "      <td>0.0</td>\n",
              "      <td>0.0</td>\n",
              "      <td>PossiblyFeedback</td>\n",
              "      <td>1.0</td>\n",
              "      <td>Newsroom/User/Community</td>\n",
              "      <td>2012-05-26 03:00:19.23</td>\n",
              "      <td>Die Newsletter von derStandard.at</td>\n",
              "      <td>&lt;div class=\"section\" id=\"content-main\" itempro...</td>\n",
              "    </tr>\n",
              "    <tr>\n",
              "      <th>1</th>\n",
              "      <td>81.0</td>\n",
              "      <td>NaN</td>\n",
              "      <td>1</td>\n",
              "      <td>27465.0</td>\n",
              "      <td>2015-10-03 14:06:06.210</td>\n",
              "      <td>online</td>\n",
              "      <td>NaN</td>\n",
              "      <td>Sehr geehrte Community oder cmb!\\r\\n\\r\\nBekomm...</td>\n",
              "      <td>0.0</td>\n",
              "      <td>1.0</td>\n",
              "      <td>PossiblyFeedback</td>\n",
              "      <td>1.0</td>\n",
              "      <td>Newsroom/User/Community</td>\n",
              "      <td>2012-05-26 03:00:19.23</td>\n",
              "      <td>Die Newsletter von derStandard.at</td>\n",
              "      <td>&lt;div class=\"section\" id=\"content-main\" itempro...</td>\n",
              "    </tr>\n",
              "    <tr>\n",
              "      <th>2</th>\n",
              "      <td>132.0</td>\n",
              "      <td>NaN</td>\n",
              "      <td>2</td>\n",
              "      <td>28073.0</td>\n",
              "      <td>2015-10-09 11:33:07.227</td>\n",
              "      <td>online</td>\n",
              "      <td>Irgendwie...</td>\n",
              "      <td>kommen manche Posts nicht durch :(</td>\n",
              "      <td>0.0</td>\n",
              "      <td>0.0</td>\n",
              "      <td>PossiblyFeedback</td>\n",
              "      <td>1.0</td>\n",
              "      <td>Newsroom/User/Community/Regeln</td>\n",
              "      <td>2012-05-26 12:12:19.46</td>\n",
              "      <td>Werden Sie Teil von derStandard.at!</td>\n",
              "      <td>&lt;div class=\"diashow\" id=\"objectContent\"&gt;&lt;meta ...</td>\n",
              "    </tr>\n",
              "    <tr>\n",
              "      <th>3</th>\n",
              "      <td>134.0</td>\n",
              "      <td>NaN</td>\n",
              "      <td>2</td>\n",
              "      <td>20194.0</td>\n",
              "      <td>2015-11-04 13:29:34.930</td>\n",
              "      <td>online</td>\n",
              "      <td>NaN</td>\n",
              "      <td>Eine Frage: \\r\\n\\r\\nGibt es eine Möglichkeit s...</td>\n",
              "      <td>0.0</td>\n",
              "      <td>0.0</td>\n",
              "      <td>PossiblyFeedback</td>\n",
              "      <td>1.0</td>\n",
              "      <td>Newsroom/User/Community/Regeln</td>\n",
              "      <td>2012-05-26 12:12:19.46</td>\n",
              "      <td>Werden Sie Teil von derStandard.at!</td>\n",
              "      <td>&lt;div class=\"diashow\" id=\"objectContent\"&gt;&lt;meta ...</td>\n",
              "    </tr>\n",
              "    <tr>\n",
              "      <th>4</th>\n",
              "      <td>139.0</td>\n",
              "      <td>NaN</td>\n",
              "      <td>2</td>\n",
              "      <td>14020.0</td>\n",
              "      <td>2015-12-11 14:51:17.540</td>\n",
              "      <td>online</td>\n",
              "      <td>Registrierung</td>\n",
              "      <td>Ich habe ein Problem: ich bin registriert, übe...</td>\n",
              "      <td>0.0</td>\n",
              "      <td>0.0</td>\n",
              "      <td>PossiblyFeedback</td>\n",
              "      <td>1.0</td>\n",
              "      <td>Newsroom/User/Community/Regeln</td>\n",
              "      <td>2012-05-26 12:12:19.46</td>\n",
              "      <td>Werden Sie Teil von derStandard.at!</td>\n",
              "      <td>&lt;div class=\"diashow\" id=\"objectContent\"&gt;&lt;meta ...</td>\n",
              "    </tr>\n",
              "  </tbody>\n",
              "</table>\n",
              "</div>"
            ],
            "text/plain": [
              "   ID_Post  ...                                             Body_y\n",
              "0     79.0  ...  <div class=\"section\" id=\"content-main\" itempro...\n",
              "1     81.0  ...  <div class=\"section\" id=\"content-main\" itempro...\n",
              "2    132.0  ...  <div class=\"diashow\" id=\"objectContent\"><meta ...\n",
              "3    134.0  ...  <div class=\"diashow\" id=\"objectContent\"><meta ...\n",
              "4    139.0  ...  <div class=\"diashow\" id=\"objectContent\"><meta ...\n",
              "\n",
              "[5 rows x 16 columns]"
            ]
          },
          "metadata": {
            "tags": []
          },
          "execution_count": 39
        }
      ]
    },
    {
      "cell_type": "code",
      "metadata": {
        "id": "Zht9Yff6xGjw",
        "colab_type": "code",
        "colab": {}
      },
      "source": [
        "from bs4 import BeautifulSoup"
      ],
      "execution_count": 0,
      "outputs": []
    },
    {
      "cell_type": "code",
      "metadata": {
        "id": "j125pjy_vnTp",
        "colab_type": "code",
        "colab": {}
      },
      "source": [
        "def remove_html(words):\n",
        "    html = words\n",
        "    Beaut_Soup = BeautifulSoup(html)\n",
        "    \n",
        "    for script in Beaut_Soup([\"script\", \"style\"]):\n",
        "        script.extract() \n",
        "\n",
        "    words = Beaut_Soup.get_text()\n",
        "    lines = (line.strip() for line in words.splitlines())\n",
        "    chunks = (phrase.strip() for line in lines for phrase in line.split(\"  \"))\n",
        "    text = '\\n'.join(chunk for chunk in chunks if chunk)\n",
        "    \n",
        "    return(str(words.encode('utf-8')))\n",
        "    "
      ],
      "execution_count": 0,
      "outputs": []
    },
    {
      "cell_type": "code",
      "metadata": {
        "id": "L9EduDCdvnWa",
        "colab_type": "code",
        "colab": {}
      },
      "source": [
        "def pipeline(words):\n",
        "    words = words.lower()\n",
        "    words = re.split('\\W+', words)\n",
        "    words = [word for word in word if words not in stoplist]\n",
        "\n",
        "    return \" \".join(words)"
      ],
      "execution_count": 0,
      "outputs": []
    },
    {
      "cell_type": "code",
      "metadata": {
        "id": "_dXF-qyw0GZC",
        "colab_type": "code",
        "colab": {
          "base_uri": "https://localhost:8080/",
          "height": 131
        },
        "outputId": "8904cf17-27e8-473f-9cc9-d87be0bcf76d"
      },
      "source": [
        "vec = TfidfVectorizer()\n",
        "model_df = vec.fit_transform(dataframe[])\n"
      ],
      "execution_count": 40,
      "outputs": [
        {
          "output_type": "error",
          "ename": "SyntaxError",
          "evalue": "ignored",
          "traceback": [
            "\u001b[0;36m  File \u001b[0;32m\"<ipython-input-40-d8ad3375417e>\"\u001b[0;36m, line \u001b[0;32m2\u001b[0m\n\u001b[0;31m    model_df = vec.fit_transform(dataframe[])\u001b[0m\n\u001b[0m                                           ^\u001b[0m\n\u001b[0;31mSyntaxError\u001b[0m\u001b[0;31m:\u001b[0m invalid syntax\n"
          ]
        }
      ]
    }
  ]
}